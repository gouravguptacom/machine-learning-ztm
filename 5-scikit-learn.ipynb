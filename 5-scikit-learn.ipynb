{
 "cells": [
  {
   "cell_type": "markdown",
   "id": "b91d460b",
   "metadata": {},
   "source": [
    "## Why Scikit Learn?\n",
    "\n",
    "- Built on NumPy and Matplotlib (and Python)\n",
    "- Has many in-built machine learning models\n",
    "- Methods to evaluate your machine learning models\n",
    "- Very well designed API"
   ]
  },
  {
   "cell_type": "markdown",
   "id": "9505102e",
   "metadata": {},
   "source": [
    "A Scikit-Learn Workflow\n",
    "\n",
    "1. Getting data ready (to be used with machine learning models)\n",
    "2. Choosing a machine learning model\n",
    "3. Fitting a model to the data (learning patterns)\n",
    "4. Making predictions with a model (using pattern)\n",
    "5. Evaluating model predictions\n",
    "6. Improving model predictions\n",
    "7. Saving and loading models"
   ]
  },
  {
   "cell_type": "code",
   "execution_count": null,
   "id": "17ff81bb",
   "metadata": {},
   "outputs": [],
   "source": []
  }
 ],
 "metadata": {
  "kernelspec": {
   "display_name": "Python 3",
   "language": "python",
   "name": "python3"
  },
  "language_info": {
   "name": "python",
   "version": "3.10.19"
  }
 },
 "nbformat": 4,
 "nbformat_minor": 5
}
